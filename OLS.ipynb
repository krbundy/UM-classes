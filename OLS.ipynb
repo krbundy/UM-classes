{
 "cells": [
  {
   "cell_type": "code",
   "execution_count": 106,
   "metadata": {},
   "outputs": [],
   "source": [
    "from __future__ import print_function\n",
    "\n",
    "%matplotlib inline\n",
    "import numpy as np\n",
    "import pandas as pd\n",
    "import statsmodels.api as sm\n",
    "import ipywidgets as widgets\n",
    "import matplotlib.pyplot as plt\n",
    "\n",
    "from ipywidgets import interact, interactive, fixed, interact_manual"
   ]
  },
  {
   "cell_type": "code",
   "execution_count": 118,
   "metadata": {},
   "outputs": [],
   "source": [
    "import json\n",
    "from ipywidgets.embed import embed_data\n",
    "from ipywidgets.embed import embed_minimal_html\n"
   ]
  },
  {
   "cell_type": "code",
   "execution_count": 97,
   "metadata": {},
   "outputs": [],
   "source": [
    "xData = [14418.74, 14992.10, 15542.60, 16197.00, 16784.90, 17521.70, 18219.30, 18707.20, 19485.40, 20494.10]\n",
    "yData=[14294.500, 14807.750, 13738.500, 12499.167, 11457.167,  9601.500,  8292.583,  7754.417,  6976.083,  6305.5]"
   ]
  },
  {
   "cell_type": "code",
   "execution_count": 121,
   "metadata": {},
   "outputs": [],
   "source": [
    "showRegressionLine = True"
   ]
  },
  {
   "cell_type": "code",
   "execution_count": 107,
   "metadata": {},
   "outputs": [],
   "source": [
    "showRegressionLine = False"
   ]
  },
  {
   "cell_type": "code",
   "execution_count": 98,
   "metadata": {},
   "outputs": [],
   "source": [
    "econData = {'Year': [2009,2010,2011,2012,2013,2014,2015,2016,2017,2018], \n",
    "        'GDP': xData,\n",
    "        'Unemployment': yData }\n",
    "\n",
    "edf = pd.DataFrame(data=econData)\n",
    "x=np.linspace(14000,21000,num=1000)"
   ]
  },
  {
   "cell_type": "code",
   "execution_count": 99,
   "metadata": {},
   "outputs": [],
   "source": [
    "def calculateSquareError(m,b,x,y):\n",
    "    assert (x.shape[0]==y.shape[0]),\"Input Data Dimension Mismatch\"\n",
    "    yHat=m*x+b\n",
    "    residuals=y-yHat\n",
    "    ssr=np.dot(residuals, residuals)\n",
    "    return ssr"
   ]
  },
  {
   "cell_type": "code",
   "execution_count": 100,
   "metadata": {},
   "outputs": [
    {
     "name": "stdout",
     "output_type": "stream",
     "text": [
      "                            OLS Regression Results                            \n",
      "==============================================================================\n",
      "Dep. Variable:           Unemployment   R-squared:                       0.965\n",
      "Model:                            OLS   Adj. R-squared:                  0.961\n",
      "Method:                 Least Squares   F-statistic:                     222.9\n",
      "Date:                Mon, 07 Oct 2019   Prob (F-statistic):           4.00e-07\n",
      "Time:                        20:30:12   Log-Likelihood:                -77.525\n",
      "No. Observations:                  10   AIC:                             159.0\n",
      "Df Residuals:                       8   BIC:                             159.7\n",
      "Df Model:                           1                                         \n",
      "Covariance Type:            nonrobust                                         \n",
      "==============================================================================\n",
      "                 coef    std err          t      P>|t|      [0.025      0.975]\n",
      "------------------------------------------------------------------------------\n",
      "const       3.757e+04   1819.337     20.652      0.000    3.34e+04    4.18e+04\n",
      "GDP           -1.5665      0.105    -14.930      0.000      -1.808      -1.325\n",
      "==============================================================================\n",
      "Omnibus:                        2.787   Durbin-Watson:                   1.169\n",
      "Prob(Omnibus):                  0.248   Jarque-Bera (JB):                0.942\n",
      "Skew:                           0.060   Prob(JB):                        0.624\n",
      "Kurtosis:                       1.501   Cond. No.                     1.58e+05\n",
      "==============================================================================\n",
      "\n",
      "Warnings:\n",
      "[1] Standard Errors assume that the covariance matrix of the errors is correctly specified.\n",
      "[2] The condition number is large, 1.58e+05. This might indicate that there are\n",
      "strong multicollinearity or other numerical problems.\n"
     ]
    }
   ],
   "source": [
    "independentVar = edf.loc[:,'GDP']\n",
    "independentVar = sm.add_constant(independentVar)\n",
    "\n",
    "dependentVar = edf.loc[:,'Unemployment']\n",
    "model = sm.OLS(dependentVar,independentVar)\n",
    "regressionLine=model.fit()\n",
    "print(regressionLine.summary())"
   ]
  },
  {
   "cell_type": "code",
   "execution_count": 101,
   "metadata": {},
   "outputs": [],
   "source": [
    "def displayPlotError(m,b):\n",
    "    plt.figure(2, figsize = (12,8))\n",
    "    plt.plot(x,m*x+b)\n",
    "    plt.scatter(edf.loc[:,\"GDP\"],edf.loc[:,\"Unemployment\"])\n",
    "    if showRegressionLine:\n",
    "        plt.plot(x, regressionLine.params[0]+(regressionLine.params[1]*x))\n",
    "        minError = calculateSquareError(regressionLine.params[1], regressionLine.params[0],\n",
    "                                        edf.loc[:,\"GDP\"],edf.loc[:,\"Unemployment\"])\n",
    "        print(\"\\n Least Squares Regression Sum of Squared Errors: \\n\", minError)\n",
    "    plt.ylim(6000,16000)\n",
    "    plt.show\n",
    "    sqrError = calculateSquareError(m,b,edf.loc[:,\"GDP\"],edf.loc[:,\"Unemployment\"])\n",
    "    print(\"The Sum of squared errors is \\n\", sqrError)\n",
    "    "
   ]
  },
  {
   "cell_type": "code",
   "execution_count": 120,
   "metadata": {},
   "outputs": [
    {
     "data": {
      "application/vnd.jupyter.widget-view+json": {
       "model_id": "8e70f0139e97411d8a1fd9b2fe0b9a7d",
       "version_major": 2,
       "version_minor": 0
      },
      "text/plain": [
       "interactive(children=(FloatSlider(value=-0.75, description='m', max=0.5, min=-2.0, step=0.05), IntSlider(value…"
      ]
     },
     "metadata": {},
     "output_type": "display_data"
    },
    {
     "data": {
      "text/plain": [
       "<function __main__.displayPlotError(m, b)>"
      ]
     },
     "execution_count": 120,
     "metadata": {},
     "output_type": "execute_result"
    }
   ],
   "source": [
    "interactive_plot=interact_manual(displayPlotError,m=(-2,0.5,0.05),b=(10000,40000,1000), continuous_update=False)\n",
    "#output = interactive_plot.children[-1]\n",
    "output.layout.height = '800px'\n",
    "output.layout.width = '1200px'\n",
    "interactive_plot"
   ]
  },
  {
   "cell_type": "code",
   "execution_count": 119,
   "metadata": {},
   "outputs": [
    {
     "ename": "AttributeError",
     "evalue": "'function' object has no attribute 'get_view_spec'",
     "output_type": "error",
     "traceback": [
      "\u001b[1;31m---------------------------------------------------------------------------\u001b[0m",
      "\u001b[1;31mAttributeError\u001b[0m                            Traceback (most recent call last)",
      "\u001b[1;32m<ipython-input-119-af457b012c22>\u001b[0m in \u001b[0;36m<module>\u001b[1;34m\u001b[0m\n\u001b[1;32m----> 1\u001b[1;33m \u001b[0membed_minimal_html\u001b[0m\u001b[1;33m(\u001b[0m\u001b[1;34m'export.html'\u001b[0m\u001b[1;33m,\u001b[0m \u001b[0mviews\u001b[0m\u001b[1;33m=\u001b[0m\u001b[1;33m[\u001b[0m\u001b[0minteractive_plot\u001b[0m\u001b[1;33m]\u001b[0m\u001b[1;33m,\u001b[0m \u001b[0mtitle\u001b[0m\u001b[1;33m=\u001b[0m\u001b[1;34m'Widgets export'\u001b[0m\u001b[1;33m)\u001b[0m\u001b[1;33m\u001b[0m\u001b[1;33m\u001b[0m\u001b[0m\n\u001b[0m",
      "\u001b[1;32m~\\Anaconda3\\lib\\site-packages\\ipywidgets\\embed.py\u001b[0m in \u001b[0;36membed_minimal_html\u001b[1;34m(fp, views, title, template, **kwargs)\u001b[0m\n\u001b[0;32m    300\u001b[0m     \u001b[1;33m{\u001b[0m\u001b[0membed_kwargs\u001b[0m\u001b[1;33m}\u001b[0m\u001b[1;33m\u001b[0m\u001b[1;33m\u001b[0m\u001b[0m\n\u001b[0;32m    301\u001b[0m     \"\"\"\n\u001b[1;32m--> 302\u001b[1;33m     \u001b[0msnippet\u001b[0m \u001b[1;33m=\u001b[0m \u001b[0membed_snippet\u001b[0m\u001b[1;33m(\u001b[0m\u001b[0mviews\u001b[0m\u001b[1;33m,\u001b[0m \u001b[1;33m**\u001b[0m\u001b[0mkwargs\u001b[0m\u001b[1;33m)\u001b[0m\u001b[1;33m\u001b[0m\u001b[1;33m\u001b[0m\u001b[0m\n\u001b[0m\u001b[0;32m    303\u001b[0m \u001b[1;33m\u001b[0m\u001b[0m\n\u001b[0;32m    304\u001b[0m     values = {\n",
      "\u001b[1;32m~\\Anaconda3\\lib\\site-packages\\ipywidgets\\embed.py\u001b[0m in \u001b[0;36membed_snippet\u001b[1;34m(views, drop_defaults, state, indent, embed_url, requirejs, cors)\u001b[0m\n\u001b[0;32m    262\u001b[0m     \"\"\"\n\u001b[0;32m    263\u001b[0m \u001b[1;33m\u001b[0m\u001b[0m\n\u001b[1;32m--> 264\u001b[1;33m     \u001b[0mdata\u001b[0m \u001b[1;33m=\u001b[0m \u001b[0membed_data\u001b[0m\u001b[1;33m(\u001b[0m\u001b[0mviews\u001b[0m\u001b[1;33m,\u001b[0m \u001b[0mdrop_defaults\u001b[0m\u001b[1;33m=\u001b[0m\u001b[0mdrop_defaults\u001b[0m\u001b[1;33m,\u001b[0m \u001b[0mstate\u001b[0m\u001b[1;33m=\u001b[0m\u001b[0mstate\u001b[0m\u001b[1;33m)\u001b[0m\u001b[1;33m\u001b[0m\u001b[1;33m\u001b[0m\u001b[0m\n\u001b[0m\u001b[0;32m    265\u001b[0m \u001b[1;33m\u001b[0m\u001b[0m\n\u001b[0;32m    266\u001b[0m     widget_views = u'\\n'.join(\n",
      "\u001b[1;32m~\\Anaconda3\\lib\\site-packages\\ipywidgets\\embed.py\u001b[0m in \u001b[0;36membed_data\u001b[1;34m(views, drop_defaults, state)\u001b[0m\n\u001b[0;32m    224\u001b[0m     \u001b[0mjson_data\u001b[0m\u001b[1;33m[\u001b[0m\u001b[1;34m'state'\u001b[0m\u001b[1;33m]\u001b[0m \u001b[1;33m=\u001b[0m \u001b[0mstate\u001b[0m\u001b[1;33m\u001b[0m\u001b[1;33m\u001b[0m\u001b[0m\n\u001b[0;32m    225\u001b[0m \u001b[1;33m\u001b[0m\u001b[0m\n\u001b[1;32m--> 226\u001b[1;33m     \u001b[0mview_specs\u001b[0m \u001b[1;33m=\u001b[0m \u001b[1;33m[\u001b[0m\u001b[0mw\u001b[0m\u001b[1;33m.\u001b[0m\u001b[0mget_view_spec\u001b[0m\u001b[1;33m(\u001b[0m\u001b[1;33m)\u001b[0m \u001b[1;32mfor\u001b[0m \u001b[0mw\u001b[0m \u001b[1;32min\u001b[0m \u001b[0mviews\u001b[0m\u001b[1;33m]\u001b[0m\u001b[1;33m\u001b[0m\u001b[1;33m\u001b[0m\u001b[0m\n\u001b[0m\u001b[0;32m    227\u001b[0m \u001b[1;33m\u001b[0m\u001b[0m\n\u001b[0;32m    228\u001b[0m     \u001b[1;32mreturn\u001b[0m \u001b[0mdict\u001b[0m\u001b[1;33m(\u001b[0m\u001b[0mmanager_state\u001b[0m\u001b[1;33m=\u001b[0m\u001b[0mjson_data\u001b[0m\u001b[1;33m,\u001b[0m \u001b[0mview_specs\u001b[0m\u001b[1;33m=\u001b[0m\u001b[0mview_specs\u001b[0m\u001b[1;33m)\u001b[0m\u001b[1;33m\u001b[0m\u001b[1;33m\u001b[0m\u001b[0m\n",
      "\u001b[1;32m~\\Anaconda3\\lib\\site-packages\\ipywidgets\\embed.py\u001b[0m in \u001b[0;36m<listcomp>\u001b[1;34m(.0)\u001b[0m\n\u001b[0;32m    224\u001b[0m     \u001b[0mjson_data\u001b[0m\u001b[1;33m[\u001b[0m\u001b[1;34m'state'\u001b[0m\u001b[1;33m]\u001b[0m \u001b[1;33m=\u001b[0m \u001b[0mstate\u001b[0m\u001b[1;33m\u001b[0m\u001b[1;33m\u001b[0m\u001b[0m\n\u001b[0;32m    225\u001b[0m \u001b[1;33m\u001b[0m\u001b[0m\n\u001b[1;32m--> 226\u001b[1;33m     \u001b[0mview_specs\u001b[0m \u001b[1;33m=\u001b[0m \u001b[1;33m[\u001b[0m\u001b[0mw\u001b[0m\u001b[1;33m.\u001b[0m\u001b[0mget_view_spec\u001b[0m\u001b[1;33m(\u001b[0m\u001b[1;33m)\u001b[0m \u001b[1;32mfor\u001b[0m \u001b[0mw\u001b[0m \u001b[1;32min\u001b[0m \u001b[0mviews\u001b[0m\u001b[1;33m]\u001b[0m\u001b[1;33m\u001b[0m\u001b[1;33m\u001b[0m\u001b[0m\n\u001b[0m\u001b[0;32m    227\u001b[0m \u001b[1;33m\u001b[0m\u001b[0m\n\u001b[0;32m    228\u001b[0m     \u001b[1;32mreturn\u001b[0m \u001b[0mdict\u001b[0m\u001b[1;33m(\u001b[0m\u001b[0mmanager_state\u001b[0m\u001b[1;33m=\u001b[0m\u001b[0mjson_data\u001b[0m\u001b[1;33m,\u001b[0m \u001b[0mview_specs\u001b[0m\u001b[1;33m=\u001b[0m\u001b[0mview_specs\u001b[0m\u001b[1;33m)\u001b[0m\u001b[1;33m\u001b[0m\u001b[1;33m\u001b[0m\u001b[0m\n",
      "\u001b[1;31mAttributeError\u001b[0m: 'function' object has no attribute 'get_view_spec'"
     ]
    }
   ],
   "source": [
    "embed_minimal_html('export.html', views=[interactive_plot], title='Widgets export')"
   ]
  },
  {
   "cell_type": "code",
   "execution_count": null,
   "metadata": {},
   "outputs": [],
   "source": []
  }
 ],
 "metadata": {
  "kernelspec": {
   "display_name": "Python 3",
   "language": "python",
   "name": "python3"
  },
  "language_info": {
   "codemirror_mode": {
    "name": "ipython",
    "version": 3
   },
   "file_extension": ".py",
   "mimetype": "text/x-python",
   "name": "python",
   "nbconvert_exporter": "python",
   "pygments_lexer": "ipython3",
   "version": "3.7.4"
  }
 },
 "nbformat": 4,
 "nbformat_minor": 2
}
